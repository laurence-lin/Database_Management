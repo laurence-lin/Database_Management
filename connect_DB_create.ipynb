{
 "cells": [
  {
   "cell_type": "code",
   "execution_count": 1,
   "metadata": {},
   "outputs": [
    {
     "name": "stdout",
     "output_type": "stream",
     "text": [
      "Library imported.\n"
     ]
    }
   ],
   "source": [
    "import psycopg2\n",
    "\n",
    "\n",
    "print('Library imported.')"
   ]
  },
  {
   "cell_type": "code",
   "execution_count": 2,
   "metadata": {},
   "outputs": [
    {
     "name": "stdout",
     "output_type": "stream",
     "text": [
      "Connected to DB successful!\n"
     ]
    }
   ],
   "source": [
    "# Create new DB sessioni and return connection object\n",
    "connector = psycopg2.connect(dbname=\"DB_NAME\", \n",
    "                             user=\"postgres\",\n",
    "                             host=\"HOST_OF_DB_SERVER\",\n",
    "                             port=\"PORT_OF_DB_SERVER\",\n",
    "                             password=\"PASSWORD_OF_USER_IDENTIFICATION\"\n",
    "                             )\n",
    "\n",
    "print('Connected to DB successful!')\n"
   ]
  },
  {
   "cell_type": "code",
   "execution_count": 15,
   "metadata": {},
   "outputs": [],
   "source": [
    "\n",
    "\n",
    "# Create table query\n",
    "\n",
    "query = \"\"\"\n",
    "CREATE TABLE public.\"ModelSetting\" --public 為 Schema名稱\n",
    "( \n",
    "    \"SN\" integer NOT NULL GENERATED ALWAYS AS IDENTITY (INCREMENT 1 START 1 MINVALUE 1 MAXVALUE 2147483647 CACHE 1),\n",
    "    \"model_task\" integer CHECK (\"model_task\" > 0 AND \"model_task\" < 4),\n",
    "    \"raw_dataset_path\" character varying(200),\n",
    "    \"dataset_name\" character(100),\n",
    "    \"model_name\" character(100),\n",
    "    \"model_description\" character(100),\n",
    "    \"text_col\" character(30),\n",
    "    \"label_col\" character(30),\n",
    "    \"text_size\" float8,\n",
    "    \"lr\" float8,\n",
    "    \"dim\" integer,\n",
    "    \"window\" integer,\n",
    "    \"epoch\" integer,\n",
    "    \"wordNgrams\" integer,\n",
    "    \"loss\" integer CHECK (\"loss\" > 0 AND \"loss\" < 4),\n",
    "    \"ft_model\" integer CHECK (\"ft_model\" > 0 AND \"ft_model\" < 3),\n",
    "    \"min_count\" integer,\n",
    "    \"top_model\" integer CHECK (\"top_model\" > 0 AND \"top_model\" < 4),\n",
    "    \"top_num\" integer,\n",
    "    \"re_url\" boolean,\n",
    "    \"re_email\" boolean,\n",
    "    \"re_cur\" boolean,\n",
    "    \"re_emoji\" boolean,\n",
    "    \"no_digit\" boolean,\n",
    "    \"no_single_letter\" boolean,\n",
    "    CONSTRAINT pr_key_model_setting PRIMARY KEY (\"SN\")\n",
    ")\n",
    "\n",
    "\n",
    "TABLESPACE pg_default;\n",
    "\n",
    "ALTER TABLE public.\"ModelSetting\"\n",
    "    OWNER to postgres;\n",
    "\n",
    "\"\"\"\n"
   ]
  },
  {
   "cell_type": "code",
   "execution_count": 16,
   "metadata": {},
   "outputs": [
    {
     "name": "stdout",
     "output_type": "stream",
     "text": [
      "Created new table!\n"
     ]
    }
   ],
   "source": [
    "with connector.cursor() as curs:\n",
    "    curs.execute(query)\n",
    "    \n",
    "    connector.commit()\n",
    "    \n",
    "print('Created new table!')\n",
    "\n"
   ]
  },
  {
   "cell_type": "code",
   "execution_count": 3,
   "metadata": {},
   "outputs": [],
   "source": [
    "insert_query = \"\"\"\n",
    "INSERT INTO public.\"AI_AIModule\"(\n",
    "\t\"Name\", \"Desc\", \"ModuleCategory\", \"CreateDepartment_SN\", \"CreateAccount_SN\", \"CreateDate\", \"ModifyDepartment_SN\", \"ModifyAccount_SN\", \"ModifyDate\")\n",
    "\tVALUES ('lawrence', '哈哈哈', 1, 2, 3, NULL, 6, 7, NULL);\n",
    "\n",
    "\"\"\""
   ]
  },
  {
   "cell_type": "code",
   "execution_count": 13,
   "metadata": {},
   "outputs": [
    {
     "name": "stdout",
     "output_type": "stream",
     "text": [
      "\n",
      "INSERT INTO public.\"AI_AIModule\"(\n",
      "\t\"Name\", \"Desc\", \"ModuleCategory\", \"CreateDepartment_SN\", \"CreateAccount_SN\", \"CreateDate\", \"ModifyDepartment_SN\", \"ModifyAccount_SN\", \"ModifyDate\")\n",
      "\tVALUES ('lawrence', '哈哈哈', 1, 2, 3, NULL, 6, 7, NULL);\n",
      "\n",
      "\n",
      "Last insert ID not found!\n",
      "Commited!\n",
      "Query finished.\n"
     ]
    }
   ],
   "source": [
    "\n",
    "# Create cursor from DB session: cursor enables python to execute SQL execute command\n",
    "with connector.cursor() as curs:\n",
    "    curs.execute(insert_query)\n",
    "    \n",
    "    print(insert_query)\n",
    "    \n",
    "    if curs.lastrowid:\n",
    "        print('Last insert ID', curs.lastrowid)\n",
    "        \n",
    "        \n",
    "    else:\n",
    "        print('Last insert ID not found!')\n",
    "        \n",
    "    # Commit the trasnaction to DB: Must commit or the update might not be refreshed on DB server\n",
    "    connector.commit() \n",
    "    print('Commited!')\n",
    "    \n",
    "\n",
    "print('Query finished.')"
   ]
  },
  {
   "cell_type": "code",
   "execution_count": 38,
   "metadata": {},
   "outputs": [
    {
     "ename": "SyntaxError",
     "evalue": "invalid character in identifier (<ipython-input-38-631366d8232c>, line 6)",
     "output_type": "error",
     "traceback": [
      "\u001b[1;36m  File \u001b[1;32m\"<ipython-input-38-631366d8232c>\"\u001b[1;36m, line \u001b[1;32m6\u001b[0m\n\u001b[1;33m    result =　curs.execute(select_query)\u001b[0m\n\u001b[1;37m            　   ^\u001b[0m\n\u001b[1;31mSyntaxError\u001b[0m\u001b[1;31m:\u001b[0m invalid character in identifier\n"
     ]
    }
   ],
   "source": [
    "select_query = \"\"\"\n",
    "select * from \"AI_AIModule\"\n",
    "\"\"\"\n",
    "\n",
    "with connector.cursor() as curs:\n",
    "    result =　curs.execute(select_query)\n",
    "    print(result)\n"
   ]
  },
  {
   "cell_type": "code",
   "execution_count": null,
   "metadata": {},
   "outputs": [],
   "source": []
  }
 ],
 "metadata": {
  "kernelspec": {
   "display_name": "Python 3",
   "language": "python",
   "name": "python3"
  },
  "language_info": {
   "codemirror_mode": {
    "name": "ipython",
    "version": 3
   },
   "file_extension": ".py",
   "mimetype": "text/x-python",
   "name": "python",
   "nbconvert_exporter": "python",
   "pygments_lexer": "ipython3",
   "version": "3.8.5"
  }
 },
 "nbformat": 4,
 "nbformat_minor": 4
}
